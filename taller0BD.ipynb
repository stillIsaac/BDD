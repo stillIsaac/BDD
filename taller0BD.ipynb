{
  "nbformat": 4,
  "nbformat_minor": 0,
  "metadata": {
    "colab": {
      "provenance": [],
      "authorship_tag": "ABX9TyNcTgeQZeQbSvUK/0pJSvf8",
      "include_colab_link": true
    },
    "kernelspec": {
      "name": "python3",
      "display_name": "Python 3"
    },
    "language_info": {
      "name": "python"
    }
  },
  "cells": [
    {
      "cell_type": "markdown",
      "metadata": {
        "id": "view-in-github",
        "colab_type": "text"
      },
      "source": [
        "<a href=\"https://colab.research.google.com/github/stillIsaac/BDD/blob/main/taller0BD.ipynb\" target=\"_parent\"><img src=\"https://colab.research.google.com/assets/colab-badge.svg\" alt=\"Open In Colab\"/></a>"
      ]
    },
    {
      "cell_type": "markdown",
      "source": [
        "# **ISAAC JANICA (STILLISAAC)/ TALLER 00/ DATOS GRAN ESCALA**\n",
        "\n",
        "## Sección 1: Cadenas\n",
        "\n",
        "\n",
        "\n",
        "\n",
        "\n",
        "\n",
        "\n"
      ],
      "metadata": {
        "id": "TeR8ZRSC7o05"
      }
    },
    {
      "cell_type": "markdown",
      "source": [
        "¿Cual es el valor de la variable A después de ejecutar el siguiente código?"
      ],
      "metadata": {
        "id": "phLkYUp9VLP4"
      }
    },
    {
      "cell_type": "code",
      "source": [
        "# Escribe abajo tu código y presiona Shift+Enter para ejecutarlo\n",
        "\n",
        "A = \"1\"\n",
        "# El valor es de A es \"1\""
      ],
      "metadata": {
        "id": "tb0s-6eZTcYL"
      },
      "execution_count": null,
      "outputs": []
    },
    {
      "cell_type": "markdown",
      "source": [
        "¿Cual es el valor de la variable B después de ejecutar el siguiente código?"
      ],
      "metadata": {
        "id": "dXxJBajCVjUn"
      }
    },
    {
      "cell_type": "code",
      "source": [
        "# Escribe abajo tu código y presiona Shift+Enter para ejecutarlo\n",
        "\n",
        "B = \"2\"\n",
        "#El valor de B es \"2\""
      ],
      "metadata": {
        "id": "aa_3kDnKVhZN"
      },
      "execution_count": null,
      "outputs": []
    },
    {
      "cell_type": "markdown",
      "source": [
        "¿Cual es el valor de la variable C después de ejecutar el siguiente código?"
      ],
      "metadata": {
        "id": "_OeouX_rl0Rs"
      }
    },
    {
      "cell_type": "code",
      "source": [
        "# Escribe abajo tu código y presiona Shift+Enter para ejecutarlo\n",
        "\n",
        "C = A + B\n",
        "# El valor es \"12\" porque concatena, no hace suma aritmética\n",
        "print(C)\n"
      ],
      "metadata": {
        "colab": {
          "base_uri": "https://localhost:8080/"
        },
        "id": "x5_xn48Nl3Hv",
        "outputId": "a5e1e342-440b-4c4a-b38e-be0c198d2a94"
      },
      "execution_count": null,
      "outputs": [
        {
          "output_type": "stream",
          "name": "stdout",
          "text": [
            "12\n"
          ]
        }
      ]
    },
    {
      "cell_type": "markdown",
      "source": [
        "En la variable <code>D</code> haz uso del slicing para imprimir solo los primeros tres elementos:"
      ],
      "metadata": {
        "id": "XXPe-2hAmQG0"
      }
    },
    {
      "cell_type": "code",
      "source": [
        "# Escribe abajo tu código y presiona Shift+Enter para ejecutarlo\n",
        "\n",
        "D = \"ABCDEFG\"\n",
        "print(D[0:3])\n"
      ],
      "metadata": {
        "colab": {
          "base_uri": "https://localhost:8080/"
        },
        "id": "nlNO4JRvmZ58",
        "outputId": "59b76dda-e0f5-47b0-c177-0d26d8def931"
      },
      "execution_count": null,
      "outputs": [
        {
          "output_type": "stream",
          "name": "stdout",
          "text": [
            "ABC\n"
          ]
        }
      ]
    },
    {
      "cell_type": "markdown",
      "source": [
        "Usa un valor de stride de 2 para imprimir cada segundo elemento de la cadena <code>E</code>:"
      ],
      "metadata": {
        "id": "JE25kL1GnfBK"
      }
    },
    {
      "cell_type": "code",
      "source": [
        "# Escribe abajo tu código y presiona Shift+Enter para ejecutarlo\n",
        "\n",
        "E = 'clocrkr1e1c1t'\n",
        "E[::2]"
      ],
      "metadata": {
        "colab": {
          "base_uri": "https://localhost:8080/",
          "height": 35
        },
        "id": "aCGL1EQLngev",
        "outputId": "fe7242a7-1f21-4d58-f7fb-160667cdf311"
      },
      "execution_count": null,
      "outputs": [
        {
          "output_type": "execute_result",
          "data": {
            "text/plain": [
              "'correct'"
            ],
            "application/vnd.google.colaboratory.intrinsic+json": {
              "type": "string"
            }
          },
          "metadata": {},
          "execution_count": 18
        }
      ]
    },
    {
      "cell_type": "markdown",
      "source": [
        "Imprime una barra invertida:"
      ],
      "metadata": {
        "id": "pSKzopwloYTm"
      }
    },
    {
      "cell_type": "code",
      "source": [
        "print(\"\\\\\")"
      ],
      "metadata": {
        "colab": {
          "base_uri": "https://localhost:8080/"
        },
        "id": "lldxz5mOockN",
        "outputId": "682e964e-8564-4ab6-ae7d-6c06aea75d2a"
      },
      "execution_count": null,
      "outputs": [
        {
          "output_type": "stream",
          "name": "stdout",
          "text": [
            "\\\n"
          ]
        }
      ]
    },
    {
      "cell_type": "markdown",
      "source": [
        "*Convierte* el mayúsculas el contenido de la variable <code>F</code>:"
      ],
      "metadata": {
        "id": "xWFkECVfonoq"
      }
    },
    {
      "cell_type": "code",
      "source": [
        "# Escribe abajo tu código y presiona Shift+Enter para ejecutarlo\n",
        "\n",
        "F = \"You are wrong\"\n",
        "F = F.upper()\n",
        "print(F)"
      ],
      "metadata": {
        "colab": {
          "base_uri": "https://localhost:8080/"
        },
        "id": "8fEvfgM_om2g",
        "outputId": "51bec2b4-4666-4edc-844e-b2de2e0c7cf4"
      },
      "execution_count": null,
      "outputs": [
        {
          "output_type": "stream",
          "name": "stdout",
          "text": [
            "YOU ARE WRONG\n"
          ]
        }
      ]
    },
    {
      "cell_type": "markdown",
      "source": [
        "En la variable <code>G</code>, encuentra el primer índice de la sub-cadena <code>snow</code>:"
      ],
      "metadata": {
        "id": "-BWudk9dpwH3"
      }
    },
    {
      "cell_type": "code",
      "source": [
        "# Escribe abajo tu código y presiona Shift+Enter para ejecutarlo\n",
        "\n",
        "G = \"Mary had a little lamb Little lamb, little lamb Mary had a little lamb \\\n",
        "Its fleece was white as snow And everywhere that Mary went Mary went, Mary went \\\n",
        "Everywhere that Mary went The lamb was sure to go\"\n",
        "G.find(\"snow\")\n"
      ],
      "metadata": {
        "colab": {
          "base_uri": "https://localhost:8080/"
        },
        "id": "34nJCkdsp0lY",
        "outputId": "c5844a2f-d085-405d-c3b6-865bf146d3ee"
      },
      "execution_count": null,
      "outputs": [
        {
          "output_type": "execute_result",
          "data": {
            "text/plain": [
              "95"
            ]
          },
          "metadata": {},
          "execution_count": 22
        }
      ]
    },
    {
      "cell_type": "markdown",
      "source": [
        "En la variable <code>G</code>, reemplaza la sub-cadena <code>Mary</code> con <code>Bob</code>:"
      ],
      "metadata": {
        "id": "xkAr8U-cqKVy"
      }
    },
    {
      "cell_type": "code",
      "source": [
        "G.replace('Mary', 'Bob')"
      ],
      "metadata": {
        "colab": {
          "base_uri": "https://localhost:8080/",
          "height": 53
        },
        "id": "g_CsG7LKqPSm",
        "outputId": "8fb3f2a7-9c66-41a5-ec83-4e6133e8789c"
      },
      "execution_count": null,
      "outputs": [
        {
          "output_type": "execute_result",
          "data": {
            "text/plain": [
              "'Bob had a little lamb Little lamb, little lamb Bob had a little lamb Its fleece was white as snow And everywhere that Bob went Bob went, Bob went Everywhere that Bob went The lamb was sure to go'"
            ],
            "application/vnd.google.colaboratory.intrinsic+json": {
              "type": "string"
            }
          },
          "metadata": {},
          "execution_count": 23
        }
      ]
    },
    {
      "cell_type": "markdown",
      "source": [
        "==========================================================================\n",
        "\n"
      ],
      "metadata": {
        "id": "QyTN863mrXnq"
      }
    },
    {
      "cell_type": "markdown",
      "source": [
        "## Sección 2: Tuplas"
      ],
      "metadata": {
        "id": "mbcc26K2qsQy"
      }
    },
    {
      "cell_type": "markdown",
      "source": [
        "Considérese la siguiente tupla:\n",
        "\n"
      ],
      "metadata": {
        "id": "k_191K_MtfSC"
      }
    },
    {
      "cell_type": "code",
      "source": [
        "# Tupla de ejemplo\n",
        "\n",
        "genres_tuple = (\"pop\", \"rock\", \"soul\", \"hard rock\", \"soft rock\", \\\n",
        "                \"R&B\", \"progressive rock\", \"disco\")\n",
        "genres_tuple"
      ],
      "metadata": {
        "colab": {
          "base_uri": "https://localhost:8080/"
        },
        "id": "6jPdqGLGrTFf",
        "outputId": "e66c298d-82ac-450d-8c46-5ba80e5ae5a4"
      },
      "execution_count": null,
      "outputs": [
        {
          "output_type": "execute_result",
          "data": {
            "text/plain": [
              "('pop',\n",
              " 'rock',\n",
              " 'soul',\n",
              " 'hard rock',\n",
              " 'soft rock',\n",
              " 'R&B',\n",
              " 'progressive rock',\n",
              " 'disco')"
            ]
          },
          "metadata": {},
          "execution_count": 32
        }
      ]
    },
    {
      "cell_type": "markdown",
      "source": [
        "Encontrar la longitud de la tupla, genres_tuple:"
      ],
      "metadata": {
        "id": "yF44AvZ8tmgA"
      }
    },
    {
      "cell_type": "code",
      "source": [
        "print(len(genres_tuple))\n"
      ],
      "metadata": {
        "colab": {
          "base_uri": "https://localhost:8080/"
        },
        "id": "vQutZLcEtpP8",
        "outputId": "7dfa397b-418b-43b7-c22c-74581e6dbe4a"
      },
      "execution_count": null,
      "outputs": [
        {
          "output_type": "stream",
          "name": "stdout",
          "text": [
            "8\n"
          ]
        }
      ]
    },
    {
      "cell_type": "markdown",
      "source": [
        "Accede al elemento en el índice 3:"
      ],
      "metadata": {
        "id": "-3nmclezuOSg"
      }
    },
    {
      "cell_type": "code",
      "source": [
        "genres_tuple[2]"
      ],
      "metadata": {
        "colab": {
          "base_uri": "https://localhost:8080/",
          "height": 35
        },
        "id": "eB03rol3uSgv",
        "outputId": "78ca7e2f-9906-42a3-afd7-7899c388d2db"
      },
      "execution_count": null,
      "outputs": [
        {
          "output_type": "execute_result",
          "data": {
            "text/plain": [
              "'soul'"
            ],
            "application/vnd.google.colaboratory.intrinsic+json": {
              "type": "string"
            }
          },
          "metadata": {},
          "execution_count": 27
        }
      ]
    },
    {
      "cell_type": "markdown",
      "source": [
        "Utiliza el slicing para obtener los índices 3, 4 y 5:\n",
        "\n"
      ],
      "metadata": {
        "id": "MQVyoYR9ukbp"
      }
    },
    {
      "cell_type": "code",
      "source": [
        "genres_tuple[3:6]\n"
      ],
      "metadata": {
        "colab": {
          "base_uri": "https://localhost:8080/"
        },
        "id": "TdAsTYPKuaPV",
        "outputId": "5222c348-b2c7-4a33-c46a-e55260763c4a"
      },
      "execution_count": null,
      "outputs": [
        {
          "output_type": "execute_result",
          "data": {
            "text/plain": [
              "('hard rock', 'soft rock', 'R&B')"
            ]
          },
          "metadata": {},
          "execution_count": 30
        }
      ]
    },
    {
      "cell_type": "markdown",
      "source": [
        "Encuentra los primeros dos elementos de la tupla genres_tuple:"
      ],
      "metadata": {
        "id": "syo0mPOUu2x2"
      }
    },
    {
      "cell_type": "code",
      "source": [
        "genres_tuple[0:2]\n"
      ],
      "metadata": {
        "colab": {
          "base_uri": "https://localhost:8080/"
        },
        "id": "NlnDRcoTuqYs",
        "outputId": "1f666130-9ac6-4ff0-e29e-cd7591a495f8"
      },
      "execution_count": null,
      "outputs": [
        {
          "output_type": "execute_result",
          "data": {
            "text/plain": [
              "('pop', 'rock')"
            ]
          },
          "metadata": {},
          "execution_count": 31
        }
      ]
    },
    {
      "cell_type": "markdown",
      "source": [
        "Encuentra el primer índice de \"disco\":\n",
        "\n"
      ],
      "metadata": {
        "id": "EYEJ1-iEv0XA"
      }
    },
    {
      "cell_type": "code",
      "source": [
        "# es el único que me faltó de esta sección porque no entendí a qué se refiere\n",
        "# con primer índice"
      ],
      "metadata": {
        "id": "NV_0C-_Gv5-M"
      },
      "execution_count": null,
      "outputs": []
    },
    {
      "cell_type": "markdown",
      "source": [
        "Genera una lista ordenada desde la tupla C_tuple=(-5, 1, -3):\n",
        "\n"
      ],
      "metadata": {
        "id": "c9AZ8NZAv4Yp"
      }
    },
    {
      "cell_type": "code",
      "source": [
        "C_tuple=(-5,1,-3)\n",
        "C_ordered_tuple=sorted(C_tuple)\n",
        "print(C_ordered_tuple)"
      ],
      "metadata": {
        "colab": {
          "base_uri": "https://localhost:8080/"
        },
        "id": "XATwm8E4wAKa",
        "outputId": "e7311c4a-a542-4e01-b2d6-b87ab6816279"
      },
      "execution_count": null,
      "outputs": [
        {
          "output_type": "stream",
          "name": "stdout",
          "text": [
            "[-5, -3, 1]\n"
          ]
        }
      ]
    },
    {
      "cell_type": "markdown",
      "source": [
        "##Sección 3: Listas\n"
      ],
      "metadata": {
        "id": "j8El5KUh7Fog"
      }
    },
    {
      "cell_type": "markdown",
      "source": [
        "Crea una lista a_lit con los siguientes elementos 1, hello, [1,2,3] y True."
      ],
      "metadata": {
        "id": "tFW35urc7JaV"
      }
    },
    {
      "cell_type": "code",
      "source": [
        "a_lit = [1, \"hello\", [1,2,3], True]\n"
      ],
      "metadata": {
        "id": "mzr_Tdzu7g28"
      },
      "execution_count": null,
      "outputs": []
    },
    {
      "cell_type": "markdown",
      "source": [
        "Encuentra el valor almacenado en el índice 1 de a_list."
      ],
      "metadata": {
        "id": "Jde6XZjE7s_r"
      }
    },
    {
      "cell_type": "code",
      "source": [
        "a_lit[1]"
      ],
      "metadata": {
        "colab": {
          "base_uri": "https://localhost:8080/",
          "height": 35
        },
        "id": "MByWncw078gR",
        "outputId": "98b66182-cdf2-4a55-945a-e61b3c19211e"
      },
      "execution_count": null,
      "outputs": [
        {
          "output_type": "execute_result",
          "data": {
            "text/plain": [
              "'hello'"
            ],
            "application/vnd.google.colaboratory.intrinsic+json": {
              "type": "string"
            }
          },
          "metadata": {},
          "execution_count": 41
        }
      ]
    },
    {
      "cell_type": "markdown",
      "source": [
        "Obtén el elemento almacenado en el índice 1, 2 y 3 de a_list."
      ],
      "metadata": {
        "id": "21ineYNr8Eri"
      }
    },
    {
      "cell_type": "code",
      "source": [
        "a_lit[1:4]"
      ],
      "metadata": {
        "colab": {
          "base_uri": "https://localhost:8080/"
        },
        "id": "WPDvQazQ8MWV",
        "outputId": "79b24194-39be-487c-8e21-07cf18d4cb82"
      },
      "execution_count": null,
      "outputs": [
        {
          "output_type": "execute_result",
          "data": {
            "text/plain": [
              "['hello', [1, 2, 3], True]"
            ]
          },
          "metadata": {},
          "execution_count": 42
        }
      ]
    },
    {
      "cell_type": "markdown",
      "source": [
        "Concatena las siguientes listas A = [1, 'a'] y B = [2, 1, 'd']:"
      ],
      "metadata": {
        "id": "Omw3LioV8ifR"
      }
    },
    {
      "cell_type": "code",
      "source": [
        "A = [1, 'a']\n",
        "B = [2,1,'d']\n",
        "A.extend(B)\n",
        "print(A)"
      ],
      "metadata": {
        "colab": {
          "base_uri": "https://localhost:8080/"
        },
        "id": "CmAIdYxZ8k_o",
        "outputId": "f0ea3288-bc4c-47b0-a186-f26afdedec2e"
      },
      "execution_count": null,
      "outputs": [
        {
          "output_type": "stream",
          "name": "stdout",
          "text": [
            "[1, 'a', 2, 1, 'd']\n"
          ]
        }
      ]
    },
    {
      "cell_type": "markdown",
      "source": [
        "#Sección 4: Conjuntos"
      ],
      "metadata": {
        "id": "OZWW8WTg9itR"
      }
    },
    {
      "cell_type": "markdown",
      "source": [
        "Transformar la lista ['rap','house','electronic music', 'rap'] en un conjunto:"
      ],
      "metadata": {
        "id": "EgM1Ug35nktQ"
      }
    },
    {
      "cell_type": "code",
      "source": [
        "seteo = set(['rap','house','electronic music', 'rap'])\n",
        "print(seteo)"
      ],
      "metadata": {
        "colab": {
          "base_uri": "https://localhost:8080/"
        },
        "id": "-bBoDHG0nx3n",
        "outputId": "8cbee3b0-3786-4dfe-f194-cf340be94d2a"
      },
      "execution_count": null,
      "outputs": [
        {
          "output_type": "stream",
          "name": "stdout",
          "text": [
            "{'rap', 'electronic music', 'house'}\n"
          ]
        }
      ]
    },
    {
      "cell_type": "markdown",
      "source": [
        "Considera que la lista A = [1, 2, 2, 1] y el conjunto B = set([1, 2, 2, 1]) suman sum(A) = sum(B)"
      ],
      "metadata": {
        "id": "Fn7r3oLKoBcK"
      }
    },
    {
      "cell_type": "code",
      "source": [
        "\n",
        "A = [1, 2, 2, 1]\n",
        "B = set([1, 2, 2, 1])\n",
        "print(sum(A) == sum(B))\n",
        "print(\"resultado A: \", sum(A), \" resultado B: \", sum(B))\n",
        "if(sum(B) < sum(A)):\n",
        "  print(\"Esto es porque a pesar de que A y B tienen la misma cantidad de elems,\\nlos sets quitan los duplicados\")\n",
        "\n"
      ],
      "metadata": {
        "colab": {
          "base_uri": "https://localhost:8080/"
        },
        "id": "zDjZ8EFjodoW",
        "outputId": "e4e45dca-d07a-44ce-b4dc-bbcd0b8ba80a"
      },
      "execution_count": null,
      "outputs": [
        {
          "output_type": "stream",
          "name": "stdout",
          "text": [
            "False\n",
            "resultado A:  6  resultado B:  3\n",
            "Esto es porque a pesar de que A y B tienen la misma cantidad de elems, \n",
            " los sets quitan los duplicados\n"
          ]
        }
      ]
    },
    {
      "cell_type": "markdown",
      "source": [
        "Crea un nuevo conjunto album_set3 que sea la unión de album_set1 y album_set2:"
      ],
      "metadata": {
        "id": "Rk6KSziGpx_w"
      }
    },
    {
      "cell_type": "code",
      "source": [
        "# Escribe abajo tu código y presiona Shift+Enter para ejecutarlo\n",
        "\n",
        "album_set1 = set([\"Thriller\", 'AC/DC', 'Back in Black'])\n",
        "album_set2 = set([ \"AC/DC\", \"Back in Black\", \"The Dark Side of  the Moon\"])\n",
        "album_set3 = album_set1.union(album_set2)\n",
        "print(album_set3)\n",
        "\n"
      ],
      "metadata": {
        "colab": {
          "base_uri": "https://localhost:8080/"
        },
        "id": "q633swe9oryR",
        "outputId": "c4bdb10f-6d8b-4e79-9bc3-1fabccf19ca8"
      },
      "execution_count": null,
      "outputs": [
        {
          "output_type": "stream",
          "name": "stdout",
          "text": [
            "{'AC/DC', 'Back in Black', 'Thriller', 'The Dark Side of  the Moon'}\n"
          ]
        }
      ]
    },
    {
      "cell_type": "markdown",
      "source": [
        "Averigua si album_set1 es un subconjunto de album_set3:"
      ],
      "metadata": {
        "id": "NzncJ6diqZO0"
      }
    },
    {
      "cell_type": "code",
      "source": [
        "print(album_set1.issubset(album_set3))"
      ],
      "metadata": {
        "colab": {
          "base_uri": "https://localhost:8080/"
        },
        "id": "0vQK_xafqNbE",
        "outputId": "ebede41f-a7b6-49c2-b511-3e88b8a4f159"
      },
      "execution_count": null,
      "outputs": [
        {
          "output_type": "stream",
          "name": "stdout",
          "text": [
            "True\n"
          ]
        }
      ]
    },
    {
      "cell_type": "markdown",
      "source": [
        "#Sección 5: Diccionarios"
      ],
      "metadata": {
        "id": "yIYQaseKslKh"
      }
    },
    {
      "cell_type": "markdown",
      "source": [
        "**Necesitarás este diccionario para las siguientes dos preguntas:**"
      ],
      "metadata": {
        "id": "QwJjFMhdsu4m"
      }
    },
    {
      "cell_type": "code",
      "source": [
        "# Pregunta - Diccionario de ejemplo\n",
        "\n",
        "soundtrack_dic = {\"The Bodyguard\":\"1992\", \"Saturday Night Fever\":\"1977\"}\n",
        "soundtrack_dic"
      ],
      "metadata": {
        "colab": {
          "base_uri": "https://localhost:8080/"
        },
        "id": "Lo9_jKziw0Vj",
        "outputId": "b08cf0db-54ab-45ab-a34a-142ddf48f683"
      },
      "execution_count": null,
      "outputs": [
        {
          "output_type": "execute_result",
          "data": {
            "text/plain": [
              "{'The Bodyguard': '1992', 'Saturday Night Fever': '1977'}"
            ]
          },
          "metadata": {},
          "execution_count": 17
        }
      ]
    },
    {
      "cell_type": "markdown",
      "source": [
        "a) En el diccionario soundtrack_dict. ¿Cuáles son las llaves?"
      ],
      "metadata": {
        "id": "M2s4XGTkw4nO"
      }
    },
    {
      "cell_type": "code",
      "source": [
        "soundtrack_dic.keys()"
      ],
      "metadata": {
        "colab": {
          "base_uri": "https://localhost:8080/"
        },
        "id": "MlqfXX32w6W1",
        "outputId": "0cb25efe-43b0-491d-b144-47e83e4c6a68"
      },
      "execution_count": null,
      "outputs": [
        {
          "output_type": "execute_result",
          "data": {
            "text/plain": [
              "dict_keys(['The Bodyguard', 'Saturday Night Fever'])"
            ]
          },
          "metadata": {},
          "execution_count": 18
        }
      ]
    },
    {
      "cell_type": "markdown",
      "source": [
        "\n",
        "b) En el diccionario soundtrack_dict. ¿Cuáles son los valores?"
      ],
      "metadata": {
        "id": "DMMOR2xFxIQQ"
      }
    },
    {
      "cell_type": "code",
      "source": [
        "soundtrack_dic.values()"
      ],
      "metadata": {
        "colab": {
          "base_uri": "https://localhost:8080/"
        },
        "id": "ta46LE02xLhe",
        "outputId": "f597706e-f28f-4805-ed65-485f665e8e46"
      },
      "execution_count": null,
      "outputs": [
        {
          "output_type": "execute_result",
          "data": {
            "text/plain": [
              "dict_values(['1992', '1977'])"
            ]
          },
          "metadata": {},
          "execution_count": 19
        }
      ]
    },
    {
      "cell_type": "markdown",
      "source": [
        "Necesitarás este diccionario para las siguientes preguntas:\n",
        "\n",
        "Los discos Back in Black, The Bodyguard y Thriller poseen el siguiente record de ventas en millones, 50, 50 y 65 respectivamente:\n",
        "\n",
        "a) Crea un diccionario album_sales_dict donde las llaves sean el nombre del disco y los valores la cantidad de ventas en millones."
      ],
      "metadata": {
        "id": "SdEWTRr_xfV3"
      }
    },
    {
      "cell_type": "code",
      "source": [
        "music_dic = {\"Back y Black\": 50, \"The Bodyguard\": 50, \"Thriller\": 65}\n"
      ],
      "metadata": {
        "id": "VqHeU6ssxjLh"
      },
      "execution_count": null,
      "outputs": []
    },
    {
      "cell_type": "markdown",
      "source": [
        "b) Usa el diccionario para encontrar las ventas totales de Thriller:"
      ],
      "metadata": {
        "id": "T46hGEoKx37U"
      }
    },
    {
      "cell_type": "code",
      "source": [
        "music_dic['Thriller']"
      ],
      "metadata": {
        "colab": {
          "base_uri": "https://localhost:8080/"
        },
        "id": "_8y9k7YqyAyI",
        "outputId": "429b5579-9b92-4bd6-e04c-925593bfca76"
      },
      "execution_count": null,
      "outputs": [
        {
          "output_type": "execute_result",
          "data": {
            "text/plain": [
              "65"
            ]
          },
          "metadata": {},
          "execution_count": 21
        }
      ]
    },
    {
      "cell_type": "markdown",
      "source": [
        "\n",
        "c) Encuentra los nombres de los discos dentro del diccionario mediante el método keys:"
      ],
      "metadata": {
        "id": "wEs2eNoRyYqk"
      }
    },
    {
      "cell_type": "code",
      "source": [
        "music_dic.keys()"
      ],
      "metadata": {
        "colab": {
          "base_uri": "https://localhost:8080/"
        },
        "id": "FJCT5I0TybPI",
        "outputId": "3ad61db1-d8ab-47f1-de3f-6816deca9c69"
      },
      "execution_count": null,
      "outputs": [
        {
          "output_type": "execute_result",
          "data": {
            "text/plain": [
              "dict_keys(['Back y Black', 'The Bodyguard', 'Thriller'])"
            ]
          },
          "metadata": {},
          "execution_count": 22
        }
      ]
    },
    {
      "cell_type": "markdown",
      "source": [
        "d) Encuentra los records de ventas dentro del diccionario mediante el método values:"
      ],
      "metadata": {
        "id": "WeEJEKHJyllC"
      }
    },
    {
      "cell_type": "code",
      "source": [
        "music_dic.values()"
      ],
      "metadata": {
        "colab": {
          "base_uri": "https://localhost:8080/"
        },
        "id": "YfqO5gVgynuj",
        "outputId": "b7b81c17-4f6d-4f78-9627-211d1bfee810"
      },
      "execution_count": null,
      "outputs": [
        {
          "output_type": "execute_result",
          "data": {
            "text/plain": [
              "dict_values([50, 50, 65])"
            ]
          },
          "metadata": {},
          "execution_count": 23
        }
      ]
    },
    {
      "cell_type": "markdown",
      "source": [
        "#Sección 6: Condicionales"
      ],
      "metadata": {
        "id": "362O-McE3r1L"
      }
    },
    {
      "cell_type": "markdown",
      "source": [
        "Escribe una declaración if que determine si un disco musical tiene una calificación mayor a 8. Compruébalo utilizando el calificación del disco “Back in Black” el cual tiene un valor de 8.5. Si la condición es verdadera, imprime “\"This album is Amazing!\"”"
      ],
      "metadata": {
        "id": "7jc3izIP35Pi"
      }
    },
    {
      "cell_type": "code",
      "source": [
        "example = {\"Back in Black\": 8.5}\n",
        "if(example[\"Back in Black\"] > 8):\n",
        "  print(\"This album is amazing!\")"
      ],
      "metadata": {
        "colab": {
          "base_uri": "https://localhost:8080/"
        },
        "id": "MLIvKsw64AHB",
        "outputId": "1775fb8a-5173-479f-9f98-59e36d322660"
      },
      "execution_count": null,
      "outputs": [
        {
          "output_type": "stream",
          "name": "stdout",
          "text": [
            "This album is amazing!\n"
          ]
        }
      ]
    },
    {
      "cell_type": "markdown",
      "source": [
        "Escribe una declaración if-else que determine lo siguiente. Si la calificación es mayor que 8 imprime “this album is amazing”. Si es menor o igual a 8 que imprima “this album is ok”.\n",
        "\n"
      ],
      "metadata": {
        "id": "QMwRlDPD5j09"
      }
    },
    {
      "cell_type": "code",
      "source": [
        "example = {\"Back in Black\": 7.5}\n",
        "if(example[\"Back in Black\"] > 8):\n",
        "  print(\"This album is amazing!\")\n",
        "else:\n",
        "  print(\"this album is ok\")"
      ],
      "metadata": {
        "colab": {
          "base_uri": "https://localhost:8080/"
        },
        "id": "8cdcHa7V5mTE",
        "outputId": "c77e1633-a822-4287-f311-41f5e4163477"
      },
      "execution_count": null,
      "outputs": [
        {
          "output_type": "stream",
          "name": "stdout",
          "text": [
            "this album is ok\n"
          ]
        }
      ]
    },
    {
      "cell_type": "markdown",
      "source": [
        "Escribe una declaración if que determine si un disco fue lanzado antes de 1980 o en los años 1991 o 1993. Si la condición es verdadera imprime el año de lanzamiento."
      ],
      "metadata": {
        "id": "BCLqPvbb6KP0"
      }
    },
    {
      "cell_type": "code",
      "source": [
        "release_yr = 1979\n",
        "if(release_yr < 1980) or (release_yr == 1991) or (release_yr == 1993) :\n",
        "  print(release_yr)"
      ],
      "metadata": {
        "colab": {
          "base_uri": "https://localhost:8080/"
        },
        "id": "dEP7AGGQ6NUh",
        "outputId": "762268c0-279b-4c73-a604-64aa42d8b4e5"
      },
      "execution_count": null,
      "outputs": [
        {
          "output_type": "stream",
          "name": "stdout",
          "text": [
            "1979\n"
          ]
        }
      ]
    },
    {
      "cell_type": "markdown",
      "source": [
        "#Sección 7: Bucles"
      ],
      "metadata": {
        "id": "dRYSQ75vc0AI"
      }
    },
    {
      "cell_type": "markdown",
      "source": [
        "Escribe un bucle for que imprima todos los elementos entre -5 y 5 usando la función range."
      ],
      "metadata": {
        "id": "-SS-tWnxc5kd"
      }
    },
    {
      "cell_type": "code",
      "source": [
        "for i in range (-5,5):\n",
        "  print(i)"
      ],
      "metadata": {
        "colab": {
          "base_uri": "https://localhost:8080/"
        },
        "id": "jf-f5YpCc4aU",
        "outputId": "210ad24e-ca5d-4269-ae6e-f9f67ec294d1"
      },
      "execution_count": 2,
      "outputs": [
        {
          "output_type": "stream",
          "name": "stdout",
          "text": [
            "-5\n",
            "-4\n",
            "-3\n",
            "-2\n",
            "-1\n",
            "0\n",
            "1\n",
            "2\n",
            "3\n",
            "4\n"
          ]
        }
      ]
    },
    {
      "cell_type": "markdown",
      "source": [
        "Imprime los elementos de la siguiente lista: Genres=[ 'rock', 'R&B', 'Soundtrack', 'R&B', 'soul', 'pop'] Y asegúrate de seguir las convenciones del lenguaje Python"
      ],
      "metadata": {
        "id": "vw0dpCsTeD2v"
      }
    },
    {
      "cell_type": "code",
      "source": [
        "Genres=[ 'rock', 'R&B', 'Soundtrack', 'R&B', 'soul', 'pop']\n",
        "for i in range(len(Genres)):\n",
        "  print(Genres[i])"
      ],
      "metadata": {
        "colab": {
          "base_uri": "https://localhost:8080/"
        },
        "id": "fvYtetT_d7PO",
        "outputId": "f5a06bd6-0d68-4eb7-aedb-2d84bd8ebc45"
      },
      "execution_count": 5,
      "outputs": [
        {
          "output_type": "stream",
          "name": "stdout",
          "text": [
            "rock\n",
            "R&B\n",
            "Soundtrack\n",
            "R&B\n",
            "soul\n",
            "pop\n"
          ]
        }
      ]
    },
    {
      "cell_type": "markdown",
      "source": [
        "Escribe un bucle for que imprima la siguiente lista: squares=['red', 'yellow', 'green', 'purple', 'blue']\n",
        "\n"
      ],
      "metadata": {
        "id": "KhshupfAepYB"
      }
    },
    {
      "cell_type": "code",
      "source": [
        "squares=['red', 'yellow', 'green', 'purple', 'blue']\n",
        "for i in range(len(squares)):\n",
        "  print(squares[i])"
      ],
      "metadata": {
        "colab": {
          "base_uri": "https://localhost:8080/"
        },
        "id": "4J168_1ieytF",
        "outputId": "a2236511-054e-4d97-b8fe-57ef91399993"
      },
      "execution_count": 6,
      "outputs": [
        {
          "output_type": "stream",
          "name": "stdout",
          "text": [
            "red\n",
            "yellow\n",
            "green\n",
            "purple\n",
            "blue\n"
          ]
        }
      ]
    },
    {
      "cell_type": "markdown",
      "source": [
        "Escribe un bucle while que muestre los valores de la calificación de las canciones de un disco almacenados en la lista PlayListRatings. Si la calificación es menor a 6, sal del bucle. La lista PlayListRatings esta compuesta por: PlayListRatings = [10, 9.5, 10, 8, 7.5, 5, 10, 10]"
      ],
      "metadata": {
        "id": "42DtzEwYfOg6"
      }
    },
    {
      "cell_type": "code",
      "source": [
        "PlayListRatings = [10, 9.5, 10, 8, 7.5, 5, 10, 10]\n",
        "i=0\n",
        "while(PlayListRatings[i] > 6):\n",
        "  print(PlayListRatings[i]);\n",
        "  i+=1"
      ],
      "metadata": {
        "colab": {
          "base_uri": "https://localhost:8080/"
        },
        "id": "TMMfJcsTfRaw",
        "outputId": "0ebb7f2a-a193-45b7-ffcc-49237426efb6"
      },
      "execution_count": 12,
      "outputs": [
        {
          "output_type": "stream",
          "name": "stdout",
          "text": [
            "10\n",
            "9.5\n",
            "10\n",
            "8\n",
            "7.5\n"
          ]
        }
      ]
    },
    {
      "cell_type": "markdown",
      "source": [
        "Escribe un bucle while que copie las cadenas 'orange' de la lista squares a la lista new_squares. Detente y sal del ciclo si el valor en la lista no es 'orange':"
      ],
      "metadata": {
        "id": "2_ISMNqOf39T"
      }
    },
    {
      "cell_type": "code",
      "source": [
        "# Escribe abajo tu código y presiona Shift+Enter para ejecutarlo\n",
        "\n",
        "squares = ['orange', 'orange', 'purple', 'blue ', 'orange']\n",
        "new_squares = []\n",
        "i=0\n",
        "booleano = True\n",
        "while(i<len(squares) and booleano):\n",
        "  if(squares[i] == 'orange'):\n",
        "    new_squares.append(squares[i])\n",
        "  else:\n",
        "    booleano = False\n",
        "  i+=1\n",
        "print(new_squares)"
      ],
      "metadata": {
        "colab": {
          "base_uri": "https://localhost:8080/"
        },
        "id": "hFBxdYa9gGba",
        "outputId": "ec91e51d-6d1b-4d47-ade8-e2c70fef3974"
      },
      "execution_count": 20,
      "outputs": [
        {
          "output_type": "stream",
          "name": "stdout",
          "text": [
            "['orange', 'orange']\n"
          ]
        }
      ]
    },
    {
      "cell_type": "markdown",
      "source": [
        "#Sección 8: Funciones"
      ],
      "metadata": {
        "id": "A7fLmhA0haaT"
      }
    },
    {
      "cell_type": "markdown",
      "source": [
        "Cree una función que divida la primera entrada por la segunda entrada:"
      ],
      "metadata": {
        "id": "TLkIsepQhh7_"
      }
    },
    {
      "cell_type": "code",
      "source": [
        "def div(a,b)\n",
        "  return a/b\n",
        ""
      ],
      "metadata": {
        "id": "zP8cvYJliwde"
      },
      "execution_count": null,
      "outputs": []
    },
    {
      "cell_type": "markdown",
      "source": [
        "Utilice la función  con  para la siguiente pregunta.\n",
        "¿Se puede usar la función  con  que definimos antes para agregar números enteros o cadenas?"
      ],
      "metadata": {
        "id": "vdhHCeQWi4HB"
      }
    },
    {
      "cell_type": "code",
      "source": [
        "def con(a, b):\n",
        "    return(a + b)\n",
        "\n",
        "if(con(2,2)==4 and con(\"ho\",\"la\")==\"hola\"):\n",
        "  print(\"si\")\n"
      ],
      "metadata": {
        "colab": {
          "base_uri": "https://localhost:8080/"
        },
        "id": "bBrAThBwjA8K",
        "outputId": "7ddf8662-8034-4c49-8a43-762f6a209441"
      },
      "execution_count": 21,
      "outputs": [
        {
          "output_type": "stream",
          "name": "stdout",
          "text": [
            "si\n"
          ]
        }
      ]
    },
    {
      "cell_type": "markdown",
      "source": [
        "¿Se puede usar la función  con  que definimos antes para concentrar una lista o tupla?"
      ],
      "metadata": {
        "id": "-LgiFk0QjVAR"
      }
    },
    {
      "cell_type": "code",
      "source": [
        "lista1 = [1, 2, 3]\n",
        "lista2 = [3, 4, 5]\n",
        "\n",
        "print(con(lista1, lista2))\n",
        "\n",
        "\n",
        "tupla1 = ('a','b','c')\n",
        "tupla2 = ('d', 'f', 'g')\n",
        "\n",
        "print(con(tupla1, tupla2))\n",
        "\n",
        "print(\"si\")"
      ],
      "metadata": {
        "colab": {
          "base_uri": "https://localhost:8080/"
        },
        "id": "F5Q8Ixyvjr0g",
        "outputId": "475571a6-a83b-49e7-afde-62df0914296d"
      },
      "execution_count": 23,
      "outputs": [
        {
          "output_type": "stream",
          "name": "stdout",
          "text": [
            "[1, 2, 3, 3, 4, 5]\n",
            "('a', 'b', 'c', 'd', 'f', 'g')\n",
            "si\n"
          ]
        }
      ]
    },
    {
      "cell_type": "markdown",
      "source": [
        "#Sección 9: Clases"
      ],
      "metadata": {
        "id": "0bCjPmlIkkAL"
      }
    },
    {
      "cell_type": "markdown",
      "source": [],
      "metadata": {
        "id": "KLSDU9Ifkohm"
      }
    },
    {
      "cell_type": "markdown",
      "source": [
        "#Bono"
      ],
      "metadata": {
        "id": "Aue8IumXlXtp"
      }
    },
    {
      "cell_type": "markdown",
      "source": [
        "MENOR DE DOS PARES: Escriba una función que devuelva el menor de dos números dados si ambos números son pares, pero devuelva el mayor si uno o ambos números son impares\n"
      ],
      "metadata": {
        "id": "FIeUyKtplamd"
      }
    },
    {
      "cell_type": "code",
      "source": [
        "def less_of_two_evens(a,b):\n",
        "  if(a%2+b%2 == 0):\n",
        "    if(a>b):\n",
        "      return b\n",
        "    else:\n",
        "      return a\n",
        "  else:\n",
        "    if(a>b):\n",
        "      return a\n",
        "    else:\n",
        "      return b\n",
        "\n",
        "print(less_of_two_evens(2,4) )\n",
        "print(less_of_two_evens(2,5))"
      ],
      "metadata": {
        "colab": {
          "base_uri": "https://localhost:8080/"
        },
        "id": "GSYclJULloO1",
        "outputId": "2781607a-2b1e-4730-ba53-c4b50bc42479"
      },
      "execution_count": 25,
      "outputs": [
        {
          "output_type": "stream",
          "name": "stdout",
          "text": [
            "2\n",
            "5\n"
          ]
        }
      ]
    }
  ]
}